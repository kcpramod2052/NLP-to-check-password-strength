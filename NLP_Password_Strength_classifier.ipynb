{
  "nbformat": 4,
  "nbformat_minor": 0,
  "metadata": {
    "kernelspec": {
      "display_name": "Python 3",
      "language": "python",
      "name": "python3"
    },
    "language_info": {
      "codemirror_mode": {
        "name": "ipython",
        "version": 3
      },
      "file_extension": ".py",
      "mimetype": "text/x-python",
      "name": "python",
      "nbconvert_exporter": "python",
      "pygments_lexer": "ipython3",
      "version": "3.7.4"
    },
    "colab": {
      "name": "NLP_Password_Strength_classifier.ipynb",
      "provenance": [],
      "include_colab_link": true
    }
  },
  "cells": [
    {
      "cell_type": "markdown",
      "metadata": {
        "id": "view-in-github",
        "colab_type": "text"
      },
      "source": [
        "<a href=\"https://colab.research.google.com/github/kcpramod2052/NLP-to-check-password-strength/blob/main/NLP_Password_Strength_classifier.ipynb\" target=\"_parent\"><img src=\"https://colab.research.google.com/assets/colab-badge.svg\" alt=\"Open In Colab\"/></a>"
      ]
    },
    {
      "cell_type": "markdown",
      "metadata": {
        "id": "JC3ff8ukJ9kT"
      },
      "source": [
        "Import libraries"
      ]
    },
    {
      "cell_type": "code",
      "metadata": {
        "id": "tXLDH2ZABgHP"
      },
      "source": [
        "import pandas as pd\n",
        "import numpy as np\n",
        "import seaborn as sns\n",
        "import warnings\n",
        "warnings.filterwarnings('ignore')"
      ],
      "execution_count": 1,
      "outputs": []
    },
    {
      "cell_type": "markdown",
      "metadata": {
        "id": "CgaOY8GABgHY"
      },
      "source": [
        "#### Reading dataset"
      ]
    },
    {
      "cell_type": "code",
      "metadata": {
        "id": "dXYVzquIBgHd",
        "colab": {
          "base_uri": "https://localhost:8080/",
          "height": 258
        },
        "outputId": "f1d6f18d-da80-4fdc-8441-5f89b4cdf156"
      },
      "source": [
        "data=pd.read_csv('/content/data.csv',error_bad_lines=False)\n",
        "data.head()"
      ],
      "execution_count": 2,
      "outputs": [
        {
          "output_type": "stream",
          "text": [
            "b'Skipping line 2810: expected 2 fields, saw 5\\nSkipping line 4641: expected 2 fields, saw 5\\nSkipping line 7171: expected 2 fields, saw 5\\nSkipping line 11220: expected 2 fields, saw 5\\nSkipping line 13809: expected 2 fields, saw 5\\nSkipping line 14132: expected 2 fields, saw 5\\nSkipping line 14293: expected 2 fields, saw 5\\nSkipping line 14865: expected 2 fields, saw 5\\nSkipping line 17419: expected 2 fields, saw 5\\nSkipping line 22801: expected 2 fields, saw 5\\nSkipping line 25001: expected 2 fields, saw 5\\nSkipping line 26603: expected 2 fields, saw 5\\nSkipping line 26742: expected 2 fields, saw 5\\nSkipping line 29702: expected 2 fields, saw 5\\nSkipping line 32767: expected 2 fields, saw 5\\nSkipping line 32878: expected 2 fields, saw 5\\nSkipping line 35643: expected 2 fields, saw 5\\nSkipping line 36550: expected 2 fields, saw 5\\nSkipping line 38732: expected 2 fields, saw 5\\nSkipping line 40567: expected 2 fields, saw 5\\nSkipping line 40576: expected 2 fields, saw 5\\nSkipping line 41864: expected 2 fields, saw 5\\nSkipping line 46861: expected 2 fields, saw 5\\nSkipping line 47939: expected 2 fields, saw 5\\nSkipping line 48628: expected 2 fields, saw 5\\nSkipping line 48908: expected 2 fields, saw 5\\nSkipping line 57582: expected 2 fields, saw 5\\nSkipping line 58782: expected 2 fields, saw 5\\nSkipping line 58984: expected 2 fields, saw 5\\nSkipping line 61518: expected 2 fields, saw 5\\nSkipping line 63451: expected 2 fields, saw 5\\nSkipping line 68141: expected 2 fields, saw 5\\nSkipping line 72083: expected 2 fields, saw 5\\nSkipping line 74027: expected 2 fields, saw 5\\nSkipping line 77811: expected 2 fields, saw 5\\nSkipping line 83958: expected 2 fields, saw 5\\nSkipping line 85295: expected 2 fields, saw 5\\nSkipping line 88665: expected 2 fields, saw 5\\nSkipping line 89198: expected 2 fields, saw 5\\nSkipping line 92499: expected 2 fields, saw 5\\nSkipping line 92751: expected 2 fields, saw 5\\nSkipping line 93689: expected 2 fields, saw 5\\nSkipping line 94776: expected 2 fields, saw 5\\nSkipping line 97334: expected 2 fields, saw 5\\nSkipping line 102316: expected 2 fields, saw 5\\nSkipping line 103421: expected 2 fields, saw 5\\nSkipping line 106872: expected 2 fields, saw 5\\nSkipping line 109363: expected 2 fields, saw 5\\nSkipping line 110117: expected 2 fields, saw 5\\nSkipping line 110465: expected 2 fields, saw 5\\nSkipping line 113843: expected 2 fields, saw 5\\nSkipping line 115634: expected 2 fields, saw 5\\nSkipping line 121518: expected 2 fields, saw 5\\nSkipping line 123692: expected 2 fields, saw 5\\nSkipping line 124708: expected 2 fields, saw 5\\nSkipping line 129608: expected 2 fields, saw 5\\nSkipping line 133176: expected 2 fields, saw 5\\nSkipping line 135532: expected 2 fields, saw 5\\nSkipping line 138042: expected 2 fields, saw 5\\nSkipping line 139485: expected 2 fields, saw 5\\nSkipping line 140401: expected 2 fields, saw 5\\nSkipping line 144093: expected 2 fields, saw 5\\nSkipping line 149850: expected 2 fields, saw 5\\nSkipping line 151831: expected 2 fields, saw 5\\nSkipping line 158014: expected 2 fields, saw 5\\nSkipping line 162047: expected 2 fields, saw 5\\nSkipping line 164515: expected 2 fields, saw 5\\nSkipping line 170313: expected 2 fields, saw 5\\nSkipping line 171325: expected 2 fields, saw 5\\nSkipping line 171424: expected 2 fields, saw 5\\nSkipping line 175920: expected 2 fields, saw 5\\nSkipping line 176210: expected 2 fields, saw 5\\nSkipping line 183603: expected 2 fields, saw 5\\nSkipping line 190264: expected 2 fields, saw 5\\nSkipping line 191683: expected 2 fields, saw 5\\nSkipping line 191988: expected 2 fields, saw 5\\nSkipping line 195450: expected 2 fields, saw 5\\nSkipping line 195754: expected 2 fields, saw 5\\nSkipping line 197124: expected 2 fields, saw 5\\nSkipping line 199263: expected 2 fields, saw 5\\nSkipping line 202603: expected 2 fields, saw 5\\nSkipping line 209960: expected 2 fields, saw 5\\nSkipping line 213218: expected 2 fields, saw 5\\nSkipping line 217060: expected 2 fields, saw 5\\nSkipping line 220121: expected 2 fields, saw 5\\nSkipping line 223518: expected 2 fields, saw 5\\nSkipping line 226293: expected 2 fields, saw 5\\nSkipping line 227035: expected 2 fields, saw 7\\nSkipping line 227341: expected 2 fields, saw 5\\nSkipping line 227808: expected 2 fields, saw 5\\nSkipping line 228516: expected 2 fields, saw 5\\nSkipping line 228733: expected 2 fields, saw 5\\nSkipping line 232043: expected 2 fields, saw 5\\nSkipping line 232426: expected 2 fields, saw 5\\nSkipping line 234490: expected 2 fields, saw 5\\nSkipping line 239626: expected 2 fields, saw 5\\nSkipping line 240461: expected 2 fields, saw 5\\nSkipping line 244518: expected 2 fields, saw 5\\nSkipping line 245395: expected 2 fields, saw 5\\nSkipping line 246168: expected 2 fields, saw 5\\nSkipping line 246655: expected 2 fields, saw 5\\nSkipping line 246752: expected 2 fields, saw 5\\nSkipping line 247189: expected 2 fields, saw 5\\nSkipping line 250276: expected 2 fields, saw 5\\nSkipping line 255327: expected 2 fields, saw 5\\nSkipping line 257094: expected 2 fields, saw 5\\n'\n",
            "b'Skipping line 264626: expected 2 fields, saw 5\\nSkipping line 265028: expected 2 fields, saw 5\\nSkipping line 269150: expected 2 fields, saw 5\\nSkipping line 271360: expected 2 fields, saw 5\\nSkipping line 273975: expected 2 fields, saw 5\\nSkipping line 274742: expected 2 fields, saw 5\\nSkipping line 276227: expected 2 fields, saw 5\\nSkipping line 279807: expected 2 fields, saw 5\\nSkipping line 283425: expected 2 fields, saw 5\\nSkipping line 287468: expected 2 fields, saw 5\\nSkipping line 292995: expected 2 fields, saw 5\\nSkipping line 293496: expected 2 fields, saw 5\\nSkipping line 293735: expected 2 fields, saw 5\\nSkipping line 295060: expected 2 fields, saw 5\\nSkipping line 296643: expected 2 fields, saw 5\\nSkipping line 296848: expected 2 fields, saw 5\\nSkipping line 308926: expected 2 fields, saw 5\\nSkipping line 310360: expected 2 fields, saw 5\\nSkipping line 317004: expected 2 fields, saw 5\\nSkipping line 318207: expected 2 fields, saw 5\\nSkipping line 331783: expected 2 fields, saw 5\\nSkipping line 333864: expected 2 fields, saw 5\\nSkipping line 335958: expected 2 fields, saw 5\\nSkipping line 336290: expected 2 fields, saw 5\\nSkipping line 343526: expected 2 fields, saw 5\\nSkipping line 343857: expected 2 fields, saw 5\\nSkipping line 344059: expected 2 fields, saw 5\\nSkipping line 348691: expected 2 fields, saw 5\\nSkipping line 353446: expected 2 fields, saw 5\\nSkipping line 357073: expected 2 fields, saw 5\\nSkipping line 359753: expected 2 fields, saw 5\\nSkipping line 359974: expected 2 fields, saw 5\\nSkipping line 366534: expected 2 fields, saw 5\\nSkipping line 369514: expected 2 fields, saw 5\\nSkipping line 377759: expected 2 fields, saw 5\\nSkipping line 379327: expected 2 fields, saw 5\\nSkipping line 380769: expected 2 fields, saw 5\\nSkipping line 381073: expected 2 fields, saw 5\\nSkipping line 381489: expected 2 fields, saw 5\\nSkipping line 386304: expected 2 fields, saw 5\\nSkipping line 387635: expected 2 fields, saw 5\\nSkipping line 389613: expected 2 fields, saw 5\\nSkipping line 392604: expected 2 fields, saw 5\\nSkipping line 393184: expected 2 fields, saw 5\\nSkipping line 395530: expected 2 fields, saw 5\\nSkipping line 396939: expected 2 fields, saw 5\\nSkipping line 397385: expected 2 fields, saw 5\\nSkipping line 397509: expected 2 fields, saw 5\\nSkipping line 402902: expected 2 fields, saw 5\\n'\n"
          ],
          "name": "stderr"
        },
        {
          "output_type": "execute_result",
          "data": {
            "text/html": [
              "<div>\n",
              "<style scoped>\n",
              "    .dataframe tbody tr th:only-of-type {\n",
              "        vertical-align: middle;\n",
              "    }\n",
              "\n",
              "    .dataframe tbody tr th {\n",
              "        vertical-align: top;\n",
              "    }\n",
              "\n",
              "    .dataframe thead th {\n",
              "        text-align: right;\n",
              "    }\n",
              "</style>\n",
              "<table border=\"1\" class=\"dataframe\">\n",
              "  <thead>\n",
              "    <tr style=\"text-align: right;\">\n",
              "      <th></th>\n",
              "      <th>password</th>\n",
              "      <th>strength</th>\n",
              "    </tr>\n",
              "  </thead>\n",
              "  <tbody>\n",
              "    <tr>\n",
              "      <th>0</th>\n",
              "      <td>kzde5577</td>\n",
              "      <td>1.0</td>\n",
              "    </tr>\n",
              "    <tr>\n",
              "      <th>1</th>\n",
              "      <td>kino3434</td>\n",
              "      <td>1.0</td>\n",
              "    </tr>\n",
              "    <tr>\n",
              "      <th>2</th>\n",
              "      <td>visi7k1yr</td>\n",
              "      <td>1.0</td>\n",
              "    </tr>\n",
              "    <tr>\n",
              "      <th>3</th>\n",
              "      <td>megzy123</td>\n",
              "      <td>1.0</td>\n",
              "    </tr>\n",
              "    <tr>\n",
              "      <th>4</th>\n",
              "      <td>lamborghin1</td>\n",
              "      <td>1.0</td>\n",
              "    </tr>\n",
              "  </tbody>\n",
              "</table>\n",
              "</div>"
            ],
            "text/plain": [
              "      password  strength\n",
              "0     kzde5577       1.0\n",
              "1     kino3434       1.0\n",
              "2    visi7k1yr       1.0\n",
              "3     megzy123       1.0\n",
              "4  lamborghin1       1.0"
            ]
          },
          "metadata": {},
          "execution_count": 2
        }
      ]
    },
    {
      "cell_type": "code",
      "metadata": {
        "id": "BY0DqF0WBgHh",
        "colab": {
          "base_uri": "https://localhost:8080/"
        },
        "outputId": "451bb682-44ce-47ae-af78-60abb7639232"
      },
      "source": [
        "data['strength'].unique()"
      ],
      "execution_count": 3,
      "outputs": [
        {
          "output_type": "execute_result",
          "data": {
            "text/plain": [
              "array([ 1.,  2.,  0., nan])"
            ]
          },
          "metadata": {},
          "execution_count": 3
        }
      ]
    },
    {
      "cell_type": "markdown",
      "metadata": {
        "id": "uTaIQNLlBgHk"
      },
      "source": [
        "#### code to check all the missing values in my dataset"
      ]
    },
    {
      "cell_type": "code",
      "metadata": {
        "id": "urRZbPdKBgHm",
        "colab": {
          "base_uri": "https://localhost:8080/"
        },
        "outputId": "243ddad9-4937-45a5-a662-a3863d4b481e"
      },
      "source": [
        "data.isna().sum()"
      ],
      "execution_count": 4,
      "outputs": [
        {
          "output_type": "execute_result",
          "data": {
            "text/plain": [
              "password    1\n",
              "strength    1\n",
              "dtype: int64"
            ]
          },
          "metadata": {},
          "execution_count": 4
        }
      ]
    },
    {
      "cell_type": "code",
      "metadata": {
        "id": "OnChcRSlBgHq",
        "colab": {
          "base_uri": "https://localhost:8080/",
          "height": 80
        },
        "outputId": "50171a1f-d2d9-431b-aa81-bbf9952d9460"
      },
      "source": [
        "data[data['password'].isnull()]"
      ],
      "execution_count": 5,
      "outputs": [
        {
          "output_type": "execute_result",
          "data": {
            "text/html": [
              "<div>\n",
              "<style scoped>\n",
              "    .dataframe tbody tr th:only-of-type {\n",
              "        vertical-align: middle;\n",
              "    }\n",
              "\n",
              "    .dataframe tbody tr th {\n",
              "        vertical-align: top;\n",
              "    }\n",
              "\n",
              "    .dataframe thead th {\n",
              "        text-align: right;\n",
              "    }\n",
              "</style>\n",
              "<table border=\"1\" class=\"dataframe\">\n",
              "  <thead>\n",
              "    <tr style=\"text-align: right;\">\n",
              "      <th></th>\n",
              "      <th>password</th>\n",
              "      <th>strength</th>\n",
              "    </tr>\n",
              "  </thead>\n",
              "  <tbody>\n",
              "    <tr>\n",
              "      <th>367579</th>\n",
              "      <td>NaN</td>\n",
              "      <td>0.0</td>\n",
              "    </tr>\n",
              "  </tbody>\n",
              "</table>\n",
              "</div>"
            ],
            "text/plain": [
              "       password  strength\n",
              "367579      NaN       0.0"
            ]
          },
          "metadata": {},
          "execution_count": 5
        }
      ]
    },
    {
      "cell_type": "code",
      "metadata": {
        "id": "_sGvGm4vBgHs"
      },
      "source": [
        "data.dropna(inplace=True)"
      ],
      "execution_count": 6,
      "outputs": []
    },
    {
      "cell_type": "code",
      "metadata": {
        "id": "Bnh_8w6lBgHv",
        "colab": {
          "base_uri": "https://localhost:8080/"
        },
        "outputId": "bc57184c-b51e-4d00-cb14-86458b697a05"
      },
      "source": [
        "data.isnull().sum()"
      ],
      "execution_count": 7,
      "outputs": [
        {
          "output_type": "execute_result",
          "data": {
            "text/plain": [
              "password    0\n",
              "strength    0\n",
              "dtype: int64"
            ]
          },
          "metadata": {},
          "execution_count": 7
        }
      ]
    },
    {
      "cell_type": "markdown",
      "metadata": {
        "id": "xbbQ-F3JLCO4"
      },
      "source": [
        "Visulising Data"
      ]
    },
    {
      "cell_type": "code",
      "metadata": {
        "id": "bCMfUzD0BgHw",
        "colab": {
          "base_uri": "https://localhost:8080/",
          "height": 296
        },
        "outputId": "bf9d8f2e-e3c1-4d6e-952b-3b223eac0b87"
      },
      "source": [
        "sns.countplot(data['strength'])"
      ],
      "execution_count": 8,
      "outputs": [
        {
          "output_type": "execute_result",
          "data": {
            "text/plain": [
              "<matplotlib.axes._subplots.AxesSubplot at 0x7efdd4b2af10>"
            ]
          },
          "metadata": {},
          "execution_count": 8
        },
        {
          "output_type": "display_data",
          "data": {
            "image/png": "[encoded data removed]",
            "text/plain": [
              "<Figure size 432x288 with 1 Axes>"
            ]
          },
          "metadata": {
            "needs_background": "light"
          }
        }
      ]
    },
    {
      "cell_type": "code",
      "metadata": {
        "id": "saM8DlCnBgHy"
      },
      "source": [
        "password_tuple=np.array(data)"
      ],
      "execution_count": 9,
      "outputs": []
    },
    {
      "cell_type": "code",
      "metadata": {
        "id": "PrMSAcH3BgHz",
        "colab": {
          "base_uri": "https://localhost:8080/"
        },
        "outputId": "1326ca2c-02ba-46f3-f878-77312d2dedcb"
      },
      "source": [
        "password_tuple"
      ],
      "execution_count": 10,
      "outputs": [
        {
          "output_type": "execute_result",
          "data": {
            "text/plain": [
              "array([['kzde5577', 1.0],\n",
              "       ['kino3434', 1.0],\n",
              "       ['visi7k1yr', 1.0],\n",
              "       ...,\n",
              "       ['urabus1', 0.0],\n",
              "       ['wen128go', 1.0],\n",
              "       ['040889mazg', 1.0]], dtype=object)"
            ]
          },
          "metadata": {},
          "execution_count": 10
        }
      ]
    },
    {
      "cell_type": "code",
      "metadata": {
        "id": "OJNq-r9JBgHz"
      },
      "source": [
        ""
      ],
      "execution_count": null,
      "outputs": []
    },
    {
      "cell_type": "markdown",
      "metadata": {
        "id": "mmp1JXF5BgH0"
      },
      "source": [
        "#### shuffling randomly for robustness"
      ]
    },
    {
      "cell_type": "code",
      "metadata": {
        "id": "XRvdo4NWBgH1"
      },
      "source": [
        "import random\n",
        "random.shuffle(password_tuple)"
      ],
      "execution_count": 11,
      "outputs": []
    },
    {
      "cell_type": "code",
      "metadata": {
        "id": "8Sm-ZqiZBgH1"
      },
      "source": [
        "x=[labels[0] for labels in password_tuple]\n",
        "y=[labels[1] for labels in password_tuple]\n"
      ],
      "execution_count": 12,
      "outputs": []
    },
    {
      "cell_type": "code",
      "metadata": {
        "id": "9UEsAlgSBgH2",
        "colab": {
          "base_uri": "https://localhost:8080/"
        },
        "outputId": "a1cd419f-5d3c-4530-851f-d56d9e920a76"
      },
      "source": [
        "x"
      ],
      "execution_count": 13,
      "outputs": [
        {
          "output_type": "execute_result",
          "data": {
            "text/plain": [
              "['kzde5577',\n",
              " 'kzde5577',\n",
              " 'visi7k1yr',\n",
              " 'kino3434',\n",
              " 'visi7k1yr',\n",
              " 'visi7k1yr',\n",
              " 'lamborghin1',\n",
              " 'lamborghin1',\n",
              " 'universe2908',\n",
              " 'lamborghin1',\n",
              " 'kzde5577',\n",
              " 'visi7k1yr',\n",
              " 'AVYq1lDE4MgAZfNt',\n",
              " 'megzy123',\n",
              " 'kino3434',\n",
              " 'as326159',\n",
              " 'asv5o9yu',\n",
              " '612035180tok',\n",
              " 'WUt9IZzE0OQ7PkNE',\n",
              " '612035180tok',\n",
              " 'jerusalem393',\n",
              " '612035180tok',\n",
              " 'visi7k1yr',\n",
              " 'u6c8vhow',\n",
              " 'g067057895',\n",
              " 'u6c8vhow',\n",
              " 'czuodhj972',\n",
              " 'sbl571017',\n",
              " 'g067057895',\n",
              " 'v1118714',\n",
              " '612035180tok',\n",
              " 'prisonbreak1',\n",
              " 'asv5o9yu',\n",
              " 'intel1',\n",
              " 'v1118714',\n",
              " '6975038lp',\n",
              " 'exitos2009',\n",
              " '52558000aaa',\n",
              " 'prisonbreak1',\n",
              " 'fk9qi21m',\n",
              " 'sbl571017',\n",
              " 'kino3434',\n",
              " 'g067057895',\n",
              " 'idofo673',\n",
              " 'megzy123',\n",
              " 'kswa2mrv',\n",
              " 'faranumar91',\n",
              " 'jytifok873',\n",
              " 'megzy123',\n",
              " 'v1118714',\n",
              " 'hpqkoxsn5',\n",
              " 'czuodhj972',\n",
              " 'WUt9IZzE0OQ7PkNE',\n",
              " 'c3h8bkzr',\n",
              " 'megzy123',\n",
              " 'olmaz.',\n",
              " 'ok>bdk',\n",
              " 'tamanagung6',\n",
              " 'idofo673',\n",
              " 'g067057895',\n",
              " 'c3h8bkzr',\n",
              " 'idofo673',\n",
              " 'kzde5577',\n",
              " 'ejeko677',\n",
              " 'openup12',\n",
              " '0169395484a',\n",
              " 'kino3434',\n",
              " 'as326159',\n",
              " 'asv5o9yu',\n",
              " 'alimagik1',\n",
              " 'alimagik1',\n",
              " 'v1118714',\n",
              " 'bozoxik602',\n",
              " 'obstacle25',\n",
              " 'megzy123',\n",
              " 'fk9qi21m',\n",
              " 'czuodhj972',\n",
              " 'schalke04',\n",
              " 'go7kew7a2po',\n",
              " 'memjan123',\n",
              " '283671gus',\n",
              " 'yk530mg8',\n",
              " 'megzy123',\n",
              " 'go7kew7a2po',\n",
              " 'u6c8vhow',\n",
              " 'v1118714',\n",
              " 'hayhayq2',\n",
              " 'go7kew7a2po',\n",
              " 'yllime123',\n",
              " 'tamanagung6',\n",
              " 'obstacle25',\n",
              " 'yllime123',\n",
              " '929865yt',\n",
              " 'pHyqueDIyNQ8vmhb',\n",
              " 'ejeko677',\n",
              " 'prisonbreak1',\n",
              " 'yitbos77',\n",
              " 'lsdlsd1',\n",
              " 'poseidon2011',\n",
              " 'gdfn76',\n",
              " 'bozoxik602',\n",
              " 'Iamthelegend1!',\n",
              " 'kVczcljg4OA25Aeb',\n",
              " 'fahad123',\n",
              " '746xitEGiqObog',\n",
              " 's4m2dx9e6',\n",
              " 'hodygid757',\n",
              " 'mickael12',\n",
              " 'TyWM72UNEex8Q8Y',\n",
              " 'TyWM72UNEex8Q8Y',\n",
              " '929865yt',\n",
              " 's4m2dx9e6',\n",
              " 'jalingo1',\n",
              " 'openup12',\n",
              " 'kswa2mrv',\n",
              " 'fk9qi21m',\n",
              " 'pHyqueDIyNQ8vmhb',\n",
              " 'sbl571017',\n",
              " 'ns2b0727',\n",
              " 'farrukhcse12',\n",
              " 'fahad123',\n",
              " 'k9b8cz6aj2',\n",
              " 'alimagik1',\n",
              " 'universe2908',\n",
              " 'g067057895',\n",
              " 'icap12',\n",
              " 'asv5o9yu',\n",
              " 'faranumar91',\n",
              " 'jalal123456',\n",
              " 'elonex24',\n",
              " 'faranumar91',\n",
              " 'faranumar91',\n",
              " 'ns2b0727',\n",
              " 'ass359',\n",
              " 'k9b8cz6aj2',\n",
              " 'yllime123',\n",
              " 'snolyuj04',\n",
              " 'aquhih220',\n",
              " '20Dgw7TQ0OQVdly7',\n",
              " '6975038lp',\n",
              " '2yz4ewwg',\n",
              " 'd04m11',\n",
              " 'hpqkoxsn5',\n",
              " 'cigicigi123',\n",
              " 'g067057895',\n",
              " 'sknq7m0',\n",
              " '26522876p',\n",
              " 'cigicigi123',\n",
              " 'gill02',\n",
              " 'obstacle25',\n",
              " 'universe2908',\n",
              " 'fahad123',\n",
              " 'ejeko677',\n",
              " 'kzde5577',\n",
              " 'snolyuj04',\n",
              " '2010server',\n",
              " 'elyass15@ajilent-ci',\n",
              " 'exitos2009',\n",
              " 'poseidon2011',\n",
              " 'bgrvl80',\n",
              " 'jalal123456',\n",
              " 'barra23',\n",
              " 'elyass15@ajilent-ci',\n",
              " 's4m2dx9e6',\n",
              " 'denise18',\n",
              " '2akira2',\n",
              " 'omakiva153',\n",
              " 'schalke04',\n",
              " 'xiau5ff',\n",
              " '123477889a',\n",
              " 'openup12',\n",
              " 'intel1',\n",
              " 'zoobike04',\n",
              " 'idofo673',\n",
              " 'w9209640',\n",
              " 'as326159',\n",
              " 'tamanagung6',\n",
              " '2fakjv',\n",
              " 'gkrqjs6',\n",
              " 'tin030201',\n",
              " 'x8512514',\n",
              " 'ok>bdk',\n",
              " 'kinga22',\n",
              " 'memjan123',\n",
              " 'u6c8vhow',\n",
              " '612035180tok',\n",
              " 'b4NbTxDEyNgG141J',\n",
              " 'j09000',\n",
              " 'cesarmaio1',\n",
              " 'meopvywk628',\n",
              " 'RPFUOUDQwMwVW0AS',\n",
              " 'aquhih220',\n",
              " 'hodygid757',\n",
              " 'ekufite742',\n",
              " 'cigicigi123',\n",
              " 'schalke04',\n",
              " '1972vishara',\n",
              " 'finisterra1',\n",
              " 'ga98SIzk0NwhiZaE',\n",
              " 'nicolas05',\n",
              " '4osxw4r',\n",
              " 'sanki1',\n",
              " 'z888888',\n",
              " 'barra23',\n",
              " 'kVczcljg4OA25Aeb',\n",
              " 'aquhih220',\n",
              " 'mohantra1',\n",
              " 'a0972986650',\n",
              " '283671gus',\n",
              " 'afs34214',\n",
              " '283671gus',\n",
              " 'tin030201',\n",
              " 'tamanagung6',\n",
              " 'u6c8vhow',\n",
              " 'fk9qi21m',\n",
              " '0870330135a',\n",
              " 'oekojWyH120063',\n",
              " '2akira2',\n",
              " '20Dgw7TQ0OQVdly7',\n",
              " '52558000aaa',\n",
              " 'calcifer32',\n",
              " 'a0972986650',\n",
              " 'x8512514',\n",
              " 'finisterra1',\n",
              " 'sanki1',\n",
              " '147963asd',\n",
              " 'znbl5tj1',\n",
              " 'barra23',\n",
              " '6tequila6',\n",
              " '20Dgw7TQ0OQVdly7',\n",
              " '283671gus',\n",
              " 'yk530mg8',\n",
              " 'ga98SIzk0NwhiZaE',\n",
              " 'matiofox08',\n",
              " 'a0972986650',\n",
              " 'sarahi1628',\n",
              " 'visi7k1yr',\n",
              " 'g067057895',\n",
              " '20Dgw7TQ0OQVdly7',\n",
              " 'nicolas05',\n",
              " 'ok>bdk',\n",
              " 'damyvo114',\n",
              " '64959rodro',\n",
              " 'yqugu927',\n",
              " '64959rodro',\n",
              " 'mickael12',\n",
              " 'xiau5ff',\n",
              " 'teemteem97',\n",
              " 'a2531106',\n",
              " 'gozv3e5',\n",
              " '2akira2',\n",
              " 'marita1',\n",
              " '123477889a',\n",
              " 'fahad123',\n",
              " 'WUt9IZzE0OQ7PkNE',\n",
              " 'RqsuUsDYxNgr8T40',\n",
              " 'IjUcOtYqAwel725',\n",
              " 'gaymaids1',\n",
              " 'colorado27',\n",
              " 'schalke04',\n",
              " 'b4NbTxDEyNgG141J',\n",
              " 'damyvo114',\n",
              " 'mike09',\n",
              " 'faranumar91',\n",
              " 'kenneth610',\n",
              " '123net123',\n",
              " 'matiofox08',\n",
              " 'igejasy712',\n",
              " 'b4NbTxDEyNgG141J',\n",
              " '2akira2',\n",
              " 'patty94',\n",
              " '746xitEGiqObog',\n",
              " 'snolyuj04',\n",
              " 'alchimie79',\n",
              " 'obstacle25',\n",
              " 'fk9qi21m',\n",
              " 'nicolas05',\n",
              " 'p@sslng2diword',\n",
              " 'metopelo1623',\n",
              " '26522876p',\n",
              " 'ikanez886',\n",
              " 'kikeq102',\n",
              " 'planes123',\n",
              " 'wxS2ztDk4OATjBfI',\n",
              " 'go7kew7a2po',\n",
              " 'tin030201',\n",
              " 'b4NbTxDEyNgG141J',\n",
              " 'yut0838828185',\n",
              " 'k9b8cz6aj2',\n",
              " 'hisnipes1',\n",
              " 'pHyqueDIyNQ8vmhb',\n",
              " 'g067057895',\n",
              " 'djngeyut2707',\n",
              " '1597535youssi',\n",
              " '7mV0pKTA3MgHy8Jv',\n",
              " 'asgaliu11',\n",
              " 'fahad123',\n",
              " 'yy4129',\n",
              " '26522876p',\n",
              " 'hisnipes1',\n",
              " 'xiau5ff',\n",
              " 'kry1z9',\n",
              " 'Iamthelegend1!',\n",
              " '4fqa52vecr',\n",
              " '123net123',\n",
              " 'e667794c1d',\n",
              " 'nK0yKXTU0NQHZE2e',\n",
              " 'potatobus150',\n",
              " '1234159hero',\n",
              " 'djngeyut2707',\n",
              " 'llahetihw1',\n",
              " 'lsdlsd1',\n",
              " 'yu4cmn',\n",
              " 'www32223222',\n",
              " 'barboza221294',\n",
              " 'afs34214',\n",
              " 'zoobike04',\n",
              " 'juliel009',\n",
              " 'obstacle25',\n",
              " 'kayal123',\n",
              " 'ekufite742',\n",
              " 'lamborghin1',\n",
              " 'virush1n1',\n",
              " 'yitbos77',\n",
              " '283671gus',\n",
              " 'cesarmaio1',\n",
              " 's4m2dx9e6',\n",
              " '52558000aaa',\n",
              " 'matiofox08',\n",
              " 'sysoja794',\n",
              " '838188linh',\n",
              " 'obstacle25',\n",
              " 'UF1Z2WjE5Mg26R1K',\n",
              " '631ihOZogELoVap',\n",
              " '10Erjrlmebup0n',\n",
              " 'sydney213',\n",
              " 'meopvywk628',\n",
              " '2010server',\n",
              " 'd4xQ3LjUwMQFVCYQ',\n",
              " 'vehat387',\n",
              " 'idofo673',\n",
              " 'acetita478',\n",
              " 'fnmsdha476',\n",
              " '1972vishara',\n",
              " 'visi7k1yr',\n",
              " 'sebo82',\n",
              " 'hodygid757',\n",
              " 'ekufite742',\n",
              " 'bencike7',\n",
              " 'weicat12',\n",
              " 'virush1n1',\n",
              " 'barra23',\n",
              " 'yllime123',\n",
              " 'hosna1368',\n",
              " 'gdfn76',\n",
              " 'markama10',\n",
              " 'ebacuro434',\n",
              " 'nokia6020',\n",
              " '10Erjrlmebup0n',\n",
              " 'sydney213',\n",
              " 'tia150979',\n",
              " 'nK0yKXTU0NQHZE2e',\n",
              " 'RPFUOUDQwMwVW0AS',\n",
              " 'tomas7896',\n",
              " 'finisterra1',\n",
              " '2021848709.',\n",
              " '2yz4ewwg',\n",
              " '12345yolanda',\n",
              " 'gtlek',\n",
              " 'abizar08',\n",
              " 'planes123',\n",
              " 'balamuc123',\n",
              " 'xyws951753',\n",
              " 'mayur@8netinfotech',\n",
              " 'WUt9IZzE0OQ7PkNE',\n",
              " 'uxyloga692',\n",
              " 'yqugu927',\n",
              " 'tomas7896',\n",
              " 'exitos2009',\n",
              " 'www32223222',\n",
              " 'acetita478',\n",
              " 'oscar69',\n",
              " 'wuzyci421',\n",
              " 'bellsuki1',\n",
              " 'bozoxik602',\n",
              " '64959rodro',\n",
              " '1qa2ws3ed4r',\n",
              " 'g3rappa',\n",
              " 'x8512514',\n",
              " 'aslpls2009',\n",
              " 'elyass15@ajilent-ci',\n",
              " '2yz4ewwg',\n",
              " 'djngeyut2707',\n",
              " 'teemteem97',\n",
              " 'sd6x9s3s',\n",
              " 'vietnga92',\n",
              " 'matiz4533',\n",
              " '159951josh',\n",
              " 'moken7',\n",
              " 'wycinu436',\n",
              " 'acetita478',\n",
              " 'cigicigi123',\n",
              " 'ajyrew547',\n",
              " '6975038lp',\n",
              " 'puegwajy416',\n",
              " 'oatcake87',\n",
              " 'caramelo9',\n",
              " 'deryxi704',\n",
              " 'ajyrew547',\n",
              " 'nicolas05',\n",
              " 'x0004534',\n",
              " 'QWERTY0011',\n",
              " 'a110804032',\n",
              " 'wuzyci421',\n",
              " '1katertje',\n",
              " 'ram@!sita15392',\n",
              " '07dpv1127b',\n",
              " 'aio42fv',\n",
              " 'seller1',\n",
              " 'cigicigi123',\n",
              " 'qn5xpg3k00',\n",
              " 'uou2dae',\n",
              " 'UF1Z2WjE5Mg26R1K',\n",
              " 'oioo9og',\n",
              " 'senghong2009',\n",
              " '215466kenyi',\n",
              " 'qefoquf1uf',\n",
              " 'fnmsdha476',\n",
              " 'weicat12',\n",
              " '0VKWoODkwOAc0pZK',\n",
              " 'acetita478',\n",
              " 'jUV4dSDQwNwPpA36',\n",
              " 'portales1',\n",
              " 'megzy123',\n",
              " 'pato221182',\n",
              " '3y6iwef2g6',\n",
              " 'jytifok873',\n",
              " 'aosmaxd0',\n",
              " 'TyWM72UNEex8Q8Y',\n",
              " 'aslpls2009',\n",
              " 'acetita478',\n",
              " 'edcmki90',\n",
              " '64whbrb351',\n",
              " 'omakiva153',\n",
              " 'beijing168',\n",
              " 'barra23',\n",
              " 'hlQ8gDTExMQWkeda',\n",
              " 'fbjurcd961',\n",
              " 'jUV4dSDQwNwPpA36',\n",
              " 'adminmao888',\n",
              " 'RqsuUsDYxNgr8T40',\n",
              " 'kuntz80',\n",
              " 'z888888',\n",
              " 'viri13',\n",
              " 'uxyloga692',\n",
              " 'deryxi704',\n",
              " 'RPFUOUDQwMwVW0AS',\n",
              " 't8IkFRDIxMAFV2JW',\n",
              " 'finisterra1',\n",
              " 'znbl5tj1',\n",
              " '19821010a',\n",
              " 'ebacuro434',\n",
              " 'novelia21',\n",
              " '7942vikas',\n",
              " '7mV0pKTA3MgHy8Jv',\n",
              " 'rLLh4WDQ2OAWbDO5',\n",
              " 'ikanez886',\n",
              " 'meopvywk628',\n",
              " 'zidadoh258',\n",
              " 'icap12',\n",
              " 'Staterkom20081993',\n",
              " 'jsm159167',\n",
              " 'aosmaxd0',\n",
              " 'lamborghin1',\n",
              " 'kunyukbabi69',\n",
              " 'cristiano7',\n",
              " 'tin030201',\n",
              " 'u6c8vhow',\n",
              " '64959rodro',\n",
              " 'kenyu001',\n",
              " 'xp;ysmybst',\n",
              " 'oekojWyH120063',\n",
              " 'frhnsvelhfr1',\n",
              " 'enziitoo1234',\n",
              " 'clumsy0619',\n",
              " 'ejeko677',\n",
              " 'sasuke4',\n",
              " 'g067057895',\n",
              " 'h1h2h3h4h5',\n",
              " 'khmer100.03278&?><Mnb',\n",
              " 'u03kz6ez',\n",
              " 'bc5e4vca',\n",
              " 'potatobus150',\n",
              " 'abizar08',\n",
              " 'rakag279',\n",
              " 'clave08',\n",
              " '746xitEGiqObog',\n",
              " 'yllime123',\n",
              " 'v10rica',\n",
              " 'shotiko18',\n",
              " '0112358mayin0',\n",
              " 'owote852',\n",
              " 'llahetihw1',\n",
              " '05bumd',\n",
              " 'servbot88',\n",
              " '2yz4ewwg',\n",
              " 'josue12',\n",
              " 'VMjz4eTkxNAbOyUU',\n",
              " 'gutergut599',\n",
              " 'byeypb2',\n",
              " 'sasuke4',\n",
              " 'kitty555',\n",
              " 'elonex24',\n",
              " 'sanjaime1',\n",
              " 'visi7k1yr',\n",
              " 'aslanmarco007',\n",
              " 'czuodhj972',\n",
              " 'ebogel225',\n",
              " 'il0vey0u',\n",
              " 'asakapa22',\n",
              " 'parent777',\n",
              " 'osimeytju12',\n",
              " 'sono11',\n",
              " 'YADHJIGSAWS11',\n",
              " 'yitbos77',\n",
              " 'hasan18',\n",
              " 'princ3sa',\n",
              " 'pablo321159',\n",
              " 'k1k2k3k4k5k6',\n",
              " 'junaid5',\n",
              " 'enziitoo1234',\n",
              " '05bumd',\n",
              " '19821010a',\n",
              " 'den019520',\n",
              " 'fahad123',\n",
              " 'ixehawojEPe418',\n",
              " 'universe2908',\n",
              " 'webstudio8',\n",
              " 'oekojWyH120063',\n",
              " 'faisal213',\n",
              " '19840510kkk1',\n",
              " 'icap12',\n",
              " 'x8512514',\n",
              " '838188linh',\n",
              " 'clave2013',\n",
              " 'mega0109',\n",
              " 'gozv3e5',\n",
              " 'purpledog1992',\n",
              " 'UF1Z2WjE5Mg26R1K',\n",
              " 'ryjypes139',\n",
              " 'gdfn76',\n",
              " '215466kenyi',\n",
              " 'taiga0088',\n",
              " 'mathilde54550',\n",
              " '1597535youssi',\n",
              " 'paulino123',\n",
              " 'fudijep286',\n",
              " 'Herzberg@ABBOTT33656888commerce',\n",
              " '631ihOZogELoVap',\n",
              " 'clave2013',\n",
              " 'mario489800',\n",
              " 'j09000',\n",
              " 'bozoxik602',\n",
              " 'xtswdypgh936',\n",
              " 'gandhi8513',\n",
              " 'kswa2mrv',\n",
              " 'hasan18',\n",
              " 'wuzyci421',\n",
              " 'xf6385494',\n",
              " '1972vishara',\n",
              " 'graciela2',\n",
              " 'trabajonet9',\n",
              " 'z7zbgIDkzMQeHUd9',\n",
              " 'tia150979',\n",
              " 'GGmm26120904..',\n",
              " 'alchimie79',\n",
              " '1A2Z3E4R',\n",
              " 'balamuc123',\n",
              " 'fnmsdha476',\n",
              " 'papasito1991',\n",
              " 'ts34a3fodh3i',\n",
              " 'aslpls2009',\n",
              " 'farrukhcse12',\n",
              " 'clumsy0619',\n",
              " 'llahetihw1',\n",
              " 'ydd45ee',\n",
              " 'potatobus150',\n",
              " 'uxyloga692',\n",
              " 'xp;ysmybst',\n",
              " 'omakiva153',\n",
              " 'ppnyadam09',\n",
              " 'ga98SIzk0NwhiZaE',\n",
              " 'xanyrum650',\n",
              " 'zcsntdmhe098',\n",
              " 'woon12',\n",
              " '26522876p',\n",
              " 'as326159',\n",
              " 'megzy123',\n",
              " 'gkrqjs6',\n",
              " 'cesarmaio1',\n",
              " 'ns2b0727',\n",
              " 'vietnga92',\n",
              " 'yqugu927',\n",
              " 'portales1',\n",
              " 'keithar1',\n",
              " 'mathilde54550',\n",
              " 'kjkjkj1',\n",
              " 'kenyu001',\n",
              " 'skoda06',\n",
              " 'GGmm26120904..',\n",
              " '7942vikas',\n",
              " 'alimagik1',\n",
              " 'wibi182d',\n",
              " 'senghong2009',\n",
              " '72o0yzekib4',\n",
              " 'rsuvxz08b',\n",
              " '7942vikas',\n",
              " 'caramelo9',\n",
              " 'sebax2013',\n",
              " 'xanyrum650',\n",
              " 'www32223222',\n",
              " 'pedronha96',\n",
              " 'nhiannei040',\n",
              " 'ldteugao6',\n",
              " 'vietnga92',\n",
              " 'faisal213',\n",
              " 'qwekl12',\n",
              " 'we34dar88',\n",
              " 'cesarmaio1',\n",
              " 'popo0404',\n",
              " 'VMjz4eTkxNAbOyUU',\n",
              " 'purpledog1992',\n",
              " 'finisterra1',\n",
              " 'a0972986650',\n",
              " 'a0972986650',\n",
              " 'jalal123456',\n",
              " 'may112001',\n",
              " 'studenko123',\n",
              " 'spl51190595',\n",
              " 'jbtcnd6',\n",
              " '07dpv1127b',\n",
              " 'kabrito1',\n",
              " 'woogee04',\n",
              " '929865yt',\n",
              " 'urban1',\n",
              " 'mussuh4',\n",
              " 'taurofive16',\n",
              " 'teemteem97',\n",
              " 'aosmaxd0',\n",
              " 'ninja420',\n",
              " 'poseidon2011',\n",
              " 'DTUQG5jU5MwmR1L9',\n",
              " 'nello11',\n",
              " 'uxyloga692',\n",
              " 's4m2dx9e6',\n",
              " 't8IkFRDIxMAFV2JW',\n",
              " 'hello2104',\n",
              " 'x8512514',\n",
              " 'ryjypes139',\n",
              " 'uqilyni846',\n",
              " 'pilatyj280',\n",
              " 'iwaguh884',\n",
              " '1A2Z3E4R',\n",
              " 'amandine666',\n",
              " 'yllime123',\n",
              " '23deagosto',\n",
              " 'z3ro1sm',\n",
              " 'ninja420',\n",
              " 'zjl0kx03',\n",
              " 'a110804032',\n",
              " 'uoaef06gfqeb',\n",
              " 'webhostv1t1n',\n",
              " 'servbot88',\n",
              " '4TXr5KDYxNQVTo4g',\n",
              " 'pedronha96',\n",
              " '1972vishara',\n",
              " '4fqa52vecr',\n",
              " 'yy4129',\n",
              " 'xf6385494',\n",
              " 'alchimie79',\n",
              " '0870330135a',\n",
              " 'zidadoh258',\n",
              " 'poluxyj32',\n",
              " 'kenneth610',\n",
              " '1597535youssi',\n",
              " 'xW8-3w7-MFB-CKH',\n",
              " 'uqilyni846',\n",
              " 'gtlek',\n",
              " 'X9WVojjE4MgVAIiR',\n",
              " 'lovelory1',\n",
              " 'kenneth610',\n",
              " 'clave08',\n",
              " 'balamuc123',\n",
              " '19840510kkk1',\n",
              " 'xyws951753',\n",
              " '1jancok',\n",
              " 'yut0838828185',\n",
              " 'sw10d014',\n",
              " 'xawipy995',\n",
              " 'lymuvop730',\n",
              " 'vijay1995',\n",
              " 'rogama69',\n",
              " 'ayles2266',\n",
              " 'xtswdypgh936',\n",
              " 'woogee04',\n",
              " 'fnmsdha476',\n",
              " 'pass0port',\n",
              " 'we34dar88',\n",
              " 'mathilde54550',\n",
              " 'ajyrew547',\n",
              " 'raykuaz32',\n",
              " '215466kenyi',\n",
              " 'growerz543',\n",
              " 'cesarmaio1',\n",
              " 'd04m11',\n",
              " 'hamqrc6',\n",
              " '4osxw4r',\n",
              " 'koabcswzt3',\n",
              " 'autan88',\n",
              " 'intel1',\n",
              " 'hello2104',\n",
              " 'housefly74',\n",
              " 'sknq7m0',\n",
              " 'taurofive16',\n",
              " 'pmcm110118008',\n",
              " 'angelinajol52',\n",
              " '23deagosto',\n",
              " 'pmcm110118008',\n",
              " 'wxS2ztDk4OATjBfI',\n",
              " 'kayal123',\n",
              " 'azizi120583',\n",
              " 'w1ll1ams',\n",
              " 'julie1989',\n",
              " 'deryxi704',\n",
              " 'owary200',\n",
              " '01161590m',\n",
              " 'khaled12',\n",
              " 'okn9zp9o',\n",
              " 'finisterra1',\n",
              " 'satrjcrj6',\n",
              " 'u03kz6ez',\n",
              " 'coy29061994',\n",
              " 'parent777',\n",
              " 'x57669',\n",
              " 'witek1709',\n",
              " 'graciela2',\n",
              " 'lrhxmevb620',\n",
              " 'satelite31',\n",
              " 'finisterra1',\n",
              " 'sw10d014',\n",
              " 'sanjaime1',\n",
              " 'pikey231',\n",
              " 'tuto0378',\n",
              " 'kyodai666',\n",
              " 'il0vey0u',\n",
              " 'zoblin80',\n",
              " 'patty94',\n",
              " 'falre1524',\n",
              " 'caramelo9',\n",
              " 'sergius1964',\n",
              " 'hosna1368',\n",
              " '727nimdadre',\n",
              " 'vuqADUSatAJO800',\n",
              " 'shotiko18',\n",
              " 'w1ll1ams',\n",
              " 'ahibyg892',\n",
              " 'hlQ8gDTExMQWkeda',\n",
              " 'xanyrum650',\n",
              " 'faisal213',\n",
              " 'g3rappa',\n",
              " 'jannia5',\n",
              " 'gohan2602',\n",
              " 'spl51190595',\n",
              " 'sofietou74',\n",
              " '1ug2UKzQyMQBsleD',\n",
              " 'elyass15@ajilent-ci',\n",
              " 'legna13',\n",
              " 'gtlek',\n",
              " 'yogesh143',\n",
              " 'karl88',\n",
              " 'kVczcljg4OA25Aeb',\n",
              " 'wycinu436',\n",
              " 'designer1206',\n",
              " 'nicolas05',\n",
              " 'speedracer10',\n",
              " 'J0LcDWDc2NAVE8j3',\n",
              " 'pacific52',\n",
              " 'schalke04',\n",
              " 'g067057895',\n",
              " 'PSVkampioen2013',\n",
              " 'sanki1',\n",
              " '600eretz',\n",
              " 'kukimuki123',\n",
              " '8g8x2su3',\n",
              " 'ydd45ee',\n",
              " 'islamasma12',\n",
              " 'ninja420',\n",
              " 'uziwocy148',\n",
              " 'dK4dWOjM1OAPeisw',\n",
              " 'rntprns7',\n",
              " 'X9WVojjE4MgVAIiR',\n",
              " 'zjl0kx03',\n",
              " 'c3h8bkzr',\n",
              " 'xp;ysmybst',\n",
              " 'RqsuUsDYxNgr8T40',\n",
              " 'speedracer10',\n",
              " 'angelinajol52',\n",
              " '1qa2ws3ed4rf',\n",
              " 'falre1524',\n",
              " 'k1k2k3k4k5k6',\n",
              " 'ts34a3fodh3i',\n",
              " 'sd6x9s3s',\n",
              " 'jsm159167',\n",
              " 'bozoxik602',\n",
              " 'damyvo114',\n",
              " 'ikanez886',\n",
              " 'matiz4533',\n",
              " 'as326159',\n",
              " 'portales1',\n",
              " '64959rodro',\n",
              " '090mca090',\n",
              " 'polo2014',\n",
              " 'GGmm26120904..',\n",
              " 'zidadoh258',\n",
              " 'kate13',\n",
              " 'wxS2ztDk4OATjBfI',\n",
              " '3CgRg8DA1NQY1iEj',\n",
              " '01161590m',\n",
              " 'galoucura1',\n",
              " 'polo2014',\n",
              " 'DRAGON25',\n",
              " 'krumbul123',\n",
              " 'mzhrmir786',\n",
              " 'TyWM72UNEex8Q8Y',\n",
              " 'topgan22',\n",
              " 'sasuke4',\n",
              " 'pedronha96',\n",
              " '5gzj5uf',\n",
              " 'enziitoo1234',\n",
              " 'seller1',\n",
              " 'sono11',\n",
              " 'djda1203zj',\n",
              " '090mca090',\n",
              " 'owary200',\n",
              " 'webstudio8',\n",
              " 'mdaffandi74',\n",
              " 'deryxi704',\n",
              " '847XagYxUHUXOW',\n",
              " 'olyucskw52',\n",
              " 'housefly74',\n",
              " 'in595462',\n",
              " 'dK4dWOjM1OAPeisw',\n",
              " '9950twofour0',\n",
              " 'CabezaDePollo476',\n",
              " 'igejasy712',\n",
              " 'gtlek',\n",
              " 'sofietou74',\n",
              " 'ukyzopi369',\n",
              " '746xitEGiqObog',\n",
              " 'franczuk33',\n",
              " 'overlord3127',\n",
              " 'artom111478',\n",
              " 'pukiw102',\n",
              " 'LypOJUfuLYrO477',\n",
              " 'cdann123',\n",
              " 'portales1',\n",
              " '746xitEGiqObog',\n",
              " 'mosad999',\n",
              " 'k1k2k3k4k5k6',\n",
              " 'metopelo1623',\n",
              " 'sbaUsoTA1OAzuevI',\n",
              " 'pukiw102',\n",
              " 'examy624',\n",
              " '0870330135a',\n",
              " '029992546sj',\n",
              " 'joy112495',\n",
              " '123456789YO',\n",
              " '147963asd',\n",
              " 'kenyu001',\n",
              " '1A2Z3E4R',\n",
              " 'smart95',\n",
              " 'in595462',\n",
              " 'seller1',\n",
              " 'pugceya468',\n",
              " 'ocadezi586',\n",
              " 'jgsxkcp639',\n",
              " 'yqugu927',\n",
              " 'krishna2',\n",
              " 'xx18121982',\n",
              " 'umetic21',\n",
              " 'tiga33',\n",
              " 'pedronha96',\n",
              " 'sbnivetha123',\n",
              " 'x57669',\n",
              " 'medebizu3',\n",
              " 'adfbwrnt4',\n",
              " 'tukaxo486',\n",
              " 'exitos2009',\n",
              " 'universe2908',\n",
              " '1907sedat58',\n",
              " 'sony18',\n",
              " 'yhwbzci130',\n",
              " 'kaiden12',\n",
              " 'y0unus',\n",
              " 'Oshity07142014',\n",
              " 'satelite31',\n",
              " '1991vikash',\n",
              " 'frenchtoast42',\n",
              " '6yy6yy',\n",
              " 'megdam55',\n",
              " 'herherher1',\n",
              " 'bozoxik602',\n",
              " 'zoobike04',\n",
              " 'zoblin80',\n",
              " 'utuham322',\n",
              " 'purpledog1992',\n",
              " '0112358mayin0',\n",
              " 'arigato3',\n",
              " 'ajyrew547',\n",
              " 'webhost0hm000',\n",
              " 'w9209640',\n",
              " 'paul2007',\n",
              " 'kevin24',\n",
              " 'RPFUOUDQwMwVW0AS',\n",
              " 'nicolas05',\n",
              " 'megzy123',\n",
              " 'tollak123',\n",
              " 'intel1',\n",
              " 'yudhia30',\n",
              " 'czuodhj972',\n",
              " 'xtswdypgh936',\n",
              " 'sergius1964',\n",
              " 'biologie1998',\n",
              " 'g3rappa',\n",
              " 'ppnyadam09',\n",
              " 'kenyu001',\n",
              " 'cxZLmFDYwNA1lUK9',\n",
              " 'tspirits08',\n",
              " 'gill02',\n",
              " 'n501iomf',\n",
              " 'yllime123',\n",
              " 'komorek11',\n",
              " 'keithcutlip99',\n",
              " '159951josh',\n",
              " '1vikaspoon',\n",
              " 'zeeshanbhai1',\n",
              " 'TyWM72UNEex8Q8Y',\n",
              " 'IRZA98',\n",
              " 'Staterkom20081993',\n",
              " 'mndzbqkv651',\n",
              " 'viri13',\n",
              " 'djawl1228',\n",
              " 'azizi120583',\n",
              " 'amandine666',\n",
              " 'anon13',\n",
              " 'cacamania12',\n",
              " 'Staterkom20081993',\n",
              " 'khurram_',\n",
              " 'qwe000',\n",
              " 'ezekiel720',\n",
              " 'caitianci33',\n",
              " 'aslanmarco007',\n",
              " 'asdasdf1',\n",
              " '4165000yakub',\n",
              " 'znbl5tj1',\n",
              " 'ajyrew547',\n",
              " 'kciseba24521',\n",
              " 'ok>bdk',\n",
              " 'jcav26',\n",
              " '0870330135a',\n",
              " '20Dgw7TQ0OQVdly7',\n",
              " 'mzhrmir786',\n",
              " 'lancer319',\n",
              " '6U3xJzDE3Nggz3L1',\n",
              " 'osimeytju12',\n",
              " '2GnTStTE4Mw4MTwv',\n",
              " 'jerusalem393',\n",
              " 'daaxvie1',\n",
              " 'p2share',\n",
              " 'wuzyci421',\n",
              " 'krumbul123',\n",
              " 'kdl9cl53',\n",
              " 'woogee04',\n",
              " 'hylefup708',\n",
              " 'xanyrum650',\n",
              " 'mialr325',\n",
              " 'kdl9cl53',\n",
              " 'raykuaz32',\n",
              " 'sd6x9s3s',\n",
              " 'xtswdypgh936',\n",
              " 'jeckericek24',\n",
              " 'ekfqrga627',\n",
              " 'jntjmh7',\n",
              " 'szdectoj2',\n",
              " 'hisnipes1',\n",
              " 'lzhzad1989',\n",
              " 'mark11',\n",
              " '05bumd',\n",
              " 'berserk18',\n",
              " 'duteje496',\n",
              " ...]"
            ]
          },
          "metadata": {},
          "execution_count": 13
        }
      ]
    },
    {
      "cell_type": "markdown",
      "metadata": {
        "id": "30Y7xLgTLxq2"
      },
      "source": [
        "Creating function to split input into character of list"
      ]
    },
    {
      "cell_type": "code",
      "metadata": {
        "id": "BznGeTIABgH2"
      },
      "source": [
        "def word_divide_char(inputs):\n",
        "    character=[]\n",
        "    for i in inputs:\n",
        "        character.append(i)\n",
        "    return character"
      ],
      "execution_count": 14,
      "outputs": []
    },
    {
      "cell_type": "code",
      "metadata": {
        "colab": {
          "base_uri": "https://localhost:8080/"
        },
        "id": "H5kLjB_QMTD3",
        "outputId": "3e6e52b4-9b09-41b2-c6df-69296528ca44"
      },
      "source": [
        "word_divide_char('159951josh')"
      ],
      "execution_count": 16,
      "outputs": [
        {
          "output_type": "execute_result",
          "data": {
            "text/plain": [
              "['1', '5', '9', '9', '5', '1', 'j', 'o', 's', 'h']"
            ]
          },
          "metadata": {},
          "execution_count": 16
        }
      ]
    },
    {
      "cell_type": "markdown",
      "metadata": {
        "id": "9F9KvZQVMiJH"
      },
      "source": [
        "importing TF-IDF vectorizer to convert String data into numerical data"
      ]
    },
    {
      "cell_type": "code",
      "metadata": {
        "id": "GXkrMU6tMb3w"
      },
      "source": [
        "from sklearn.feature_extraction.text import TfidfVectorizer"
      ],
      "execution_count": 17,
      "outputs": []
    },
    {
      "cell_type": "code",
      "metadata": {
        "id": "U4x87CjzMpYq"
      },
      "source": [
        "vectorizer=TfidfVectorizer(tokenizer=word_divide_char)"
      ],
      "execution_count": 18,
      "outputs": []
    },
    {
      "cell_type": "code",
      "metadata": {
        "id": "75fN16ZfMsuK"
      },
      "source": [
        "X=vectorizer.fit_transform(x)"
      ],
      "execution_count": 19,
      "outputs": []
    },
    {
      "cell_type": "code",
      "metadata": {
        "colab": {
          "base_uri": "https://localhost:8080/"
        },
        "id": "qujfWzE-MwaA",
        "outputId": "7a565afa-7980-429b-beaa-1b4563b11b7e"
      },
      "source": [
        "X.shape"
      ],
      "execution_count": 20,
      "outputs": [
        {
          "output_type": "execute_result",
          "data": {
            "text/plain": [
              "(402818, 111)"
            ]
          },
          "metadata": {},
          "execution_count": 20
        }
      ]
    },
    {
      "cell_type": "code",
      "metadata": {
        "colab": {
          "base_uri": "https://localhost:8080/"
        },
        "id": "A2CnsHQTMzoo",
        "outputId": "6d32f53e-c643-448f-c34d-0986cb1cfb24"
      },
      "source": [
        "vectorizer.get_feature_names()"
      ],
      "execution_count": 21,
      "outputs": [
        {
          "output_type": "execute_result",
          "data": {
            "text/plain": [
              "['\\x05',\n",
              " '\\x06',\n",
              " '\\x08',\n",
              " '\\x11',\n",
              " '\\x16',\n",
              " '\\x17',\n",
              " '\\x19',\n",
              " '\\x1b',\n",
              " '\\x1c',\n",
              " '\\x1e',\n",
              " ' ',\n",
              " '!',\n",
              " '\"',\n",
              " '#',\n",
              " '$',\n",
              " '%',\n",
              " '&',\n",
              " '(',\n",
              " ')',\n",
              " '*',\n",
              " '+',\n",
              " '-',\n",
              " '.',\n",
              " '/',\n",
              " '0',\n",
              " '1',\n",
              " '2',\n",
              " '3',\n",
              " '4',\n",
              " '5',\n",
              " '6',\n",
              " '7',\n",
              " '8',\n",
              " '9',\n",
              " ';',\n",
              " '<',\n",
              " '=',\n",
              " '>',\n",
              " '?',\n",
              " '@',\n",
              " '[',\n",
              " '\\\\',\n",
              " ']',\n",
              " '^',\n",
              " '_',\n",
              " '`',\n",
              " 'a',\n",
              " 'b',\n",
              " 'c',\n",
              " 'd',\n",
              " 'e',\n",
              " 'f',\n",
              " 'g',\n",
              " 'h',\n",
              " 'i',\n",
              " 'j',\n",
              " 'k',\n",
              " 'l',\n",
              " 'm',\n",
              " 'n',\n",
              " 'o',\n",
              " 'p',\n",
              " 'q',\n",
              " 'r',\n",
              " 's',\n",
              " 't',\n",
              " 'u',\n",
              " 'v',\n",
              " 'w',\n",
              " 'x',\n",
              " 'y',\n",
              " 'z',\n",
              " '{',\n",
              " '|',\n",
              " '}',\n",
              " '~',\n",
              " '\\x7f',\n",
              " '¡',\n",
              " '«',\n",
              " '°',\n",
              " '±',\n",
              " '³',\n",
              " '´',\n",
              " 'µ',\n",
              " '·',\n",
              " 'º',\n",
              " '¾',\n",
              " '¿',\n",
              " 'ß',\n",
              " 'à',\n",
              " 'á',\n",
              " 'â',\n",
              " 'ä',\n",
              " 'å',\n",
              " 'é',\n",
              " 'ê',\n",
              " 'í',\n",
              " 'ð',\n",
              " 'ò',\n",
              " 'ó',\n",
              " 'ô',\n",
              " 'õ',\n",
              " 'ö',\n",
              " '÷',\n",
              " 'ù',\n",
              " 'ú',\n",
              " 'ü',\n",
              " 'ý',\n",
              " 'þ',\n",
              " 'ÿ',\n",
              " '‚']"
            ]
          },
          "metadata": {},
          "execution_count": 21
        }
      ]
    },
    {
      "cell_type": "code",
      "metadata": {
        "colab": {
          "base_uri": "https://localhost:8080/"
        },
        "id": "HOAqeuIZM3hp",
        "outputId": "bb8f8faa-2c2e-412f-ccf8-8e2b4f9770bb"
      },
      "source": [
        "first_document_vector=X[0]\n",
        "first_document_vector"
      ],
      "execution_count": 22,
      "outputs": [
        {
          "output_type": "execute_result",
          "data": {
            "text/plain": [
              "<1x111 sparse matrix of type '<class 'numpy.float64'>'\n",
              "\twith 6 stored elements in Compressed Sparse Row format>"
            ]
          },
          "metadata": {},
          "execution_count": 22
        }
      ]
    },
    {
      "cell_type": "code",
      "metadata": {
        "colab": {
          "base_uri": "https://localhost:8080/"
        },
        "id": "Ddm10giFM9AQ",
        "outputId": "e79bccf3-6d40-4837-b358-40ad054761af"
      },
      "source": [
        "first_document_vector.T.todense()"
      ],
      "execution_count": 23,
      "outputs": [
        {
          "output_type": "execute_result",
          "data": {
            "text/plain": [
              "matrix([[0.        ],\n",
              "        [0.        ],\n",
              "        [0.        ],\n",
              "        [0.        ],\n",
              "        [0.        ],\n",
              "        [0.        ],\n",
              "        [0.        ],\n",
              "        [0.        ],\n",
              "        [0.        ],\n",
              "        [0.        ],\n",
              "        [0.        ],\n",
              "        [0.        ],\n",
              "        [0.        ],\n",
              "        [0.        ],\n",
              "        [0.        ],\n",
              "        [0.        ],\n",
              "        [0.        ],\n",
              "        [0.        ],\n",
              "        [0.        ],\n",
              "        [0.        ],\n",
              "        [0.        ],\n",
              "        [0.        ],\n",
              "        [0.        ],\n",
              "        [0.        ],\n",
              "        [0.        ],\n",
              "        [0.        ],\n",
              "        [0.        ],\n",
              "        [0.        ],\n",
              "        [0.        ],\n",
              "        [0.56743752],\n",
              "        [0.        ],\n",
              "        [0.59092006],\n",
              "        [0.        ],\n",
              "        [0.        ],\n",
              "        [0.        ],\n",
              "        [0.        ],\n",
              "        [0.        ],\n",
              "        [0.        ],\n",
              "        [0.        ],\n",
              "        [0.        ],\n",
              "        [0.        ],\n",
              "        [0.        ],\n",
              "        [0.        ],\n",
              "        [0.        ],\n",
              "        [0.        ],\n",
              "        [0.        ],\n",
              "        [0.        ],\n",
              "        [0.        ],\n",
              "        [0.        ],\n",
              "        [0.28583789],\n",
              "        [0.22093766],\n",
              "        [0.        ],\n",
              "        [0.        ],\n",
              "        [0.        ],\n",
              "        [0.        ],\n",
              "        [0.        ],\n",
              "        [0.29174684],\n",
              "        [0.        ],\n",
              "        [0.        ],\n",
              "        [0.        ],\n",
              "        [0.        ],\n",
              "        [0.        ],\n",
              "        [0.        ],\n",
              "        [0.        ],\n",
              "        [0.        ],\n",
              "        [0.        ],\n",
              "        [0.        ],\n",
              "        [0.        ],\n",
              "        [0.        ],\n",
              "        [0.        ],\n",
              "        [0.        ],\n",
              "        [0.33644492],\n",
              "        [0.        ],\n",
              "        [0.        ],\n",
              "        [0.        ],\n",
              "        [0.        ],\n",
              "        [0.        ],\n",
              "        [0.        ],\n",
              "        [0.        ],\n",
              "        [0.        ],\n",
              "        [0.        ],\n",
              "        [0.        ],\n",
              "        [0.        ],\n",
              "        [0.        ],\n",
              "        [0.        ],\n",
              "        [0.        ],\n",
              "        [0.        ],\n",
              "        [0.        ],\n",
              "        [0.        ],\n",
              "        [0.        ],\n",
              "        [0.        ],\n",
              "        [0.        ],\n",
              "        [0.        ],\n",
              "        [0.        ],\n",
              "        [0.        ],\n",
              "        [0.        ],\n",
              "        [0.        ],\n",
              "        [0.        ],\n",
              "        [0.        ],\n",
              "        [0.        ],\n",
              "        [0.        ],\n",
              "        [0.        ],\n",
              "        [0.        ],\n",
              "        [0.        ],\n",
              "        [0.        ],\n",
              "        [0.        ],\n",
              "        [0.        ],\n",
              "        [0.        ],\n",
              "        [0.        ],\n",
              "        [0.        ],\n",
              "        [0.        ]])"
            ]
          },
          "metadata": {},
          "execution_count": 23
        }
      ]
    },
    {
      "cell_type": "code",
      "metadata": {
        "colab": {
          "base_uri": "https://localhost:8080/",
          "height": 419
        },
        "id": "aBWWt_RlNAUa",
        "outputId": "9e9f07b5-09ab-4171-b640-43fdec702b16"
      },
      "source": [
        "df=pd.DataFrame(first_document_vector.T.todense(),index=vectorizer.get_feature_names(),columns=['TF-IDF'])\n",
        "df.sort_values(by=['TF-IDF'],ascending=False)"
      ],
      "execution_count": 24,
      "outputs": [
        {
          "output_type": "execute_result",
          "data": {
            "text/html": [
              "<div>\n",
              "<style scoped>\n",
              "    .dataframe tbody tr th:only-of-type {\n",
              "        vertical-align: middle;\n",
              "    }\n",
              "\n",
              "    .dataframe tbody tr th {\n",
              "        vertical-align: top;\n",
              "    }\n",
              "\n",
              "    .dataframe thead th {\n",
              "        text-align: right;\n",
              "    }\n",
              "</style>\n",
              "<table border=\"1\" class=\"dataframe\">\n",
              "  <thead>\n",
              "    <tr style=\"text-align: right;\">\n",
              "      <th></th>\n",
              "      <th>TF-IDF</th>\n",
              "    </tr>\n",
              "  </thead>\n",
              "  <tbody>\n",
              "    <tr>\n",
              "      <th>7</th>\n",
              "      <td>0.590920</td>\n",
              "    </tr>\n",
              "    <tr>\n",
              "      <th>5</th>\n",
              "      <td>0.567438</td>\n",
              "    </tr>\n",
              "    <tr>\n",
              "      <th>z</th>\n",
              "      <td>0.336445</td>\n",
              "    </tr>\n",
              "    <tr>\n",
              "      <th>k</th>\n",
              "      <td>0.291747</td>\n",
              "    </tr>\n",
              "    <tr>\n",
              "      <th>d</th>\n",
              "      <td>0.285838</td>\n",
              "    </tr>\n",
              "    <tr>\n",
              "      <th>...</th>\n",
              "      <td>...</td>\n",
              "    </tr>\n",
              "    <tr>\n",
              "      <th>;</th>\n",
              "      <td>0.000000</td>\n",
              "    </tr>\n",
              "    <tr>\n",
              "      <th>9</th>\n",
              "      <td>0.000000</td>\n",
              "    </tr>\n",
              "    <tr>\n",
              "      <th>8</th>\n",
              "      <td>0.000000</td>\n",
              "    </tr>\n",
              "    <tr>\n",
              "      <th>6</th>\n",
              "      <td>0.000000</td>\n",
              "    </tr>\n",
              "    <tr>\n",
              "      <th>‚</th>\n",
              "      <td>0.000000</td>\n",
              "    </tr>\n",
              "  </tbody>\n",
              "</table>\n",
              "<p>111 rows × 1 columns</p>\n",
              "</div>"
            ],
            "text/plain": [
              "      TF-IDF\n",
              "7   0.590920\n",
              "5   0.567438\n",
              "z   0.336445\n",
              "k   0.291747\n",
              "d   0.285838\n",
              "..       ...\n",
              ";   0.000000\n",
              "9   0.000000\n",
              "8   0.000000\n",
              "6   0.000000\n",
              "‚   0.000000\n",
              "\n",
              "[111 rows x 1 columns]"
            ]
          },
          "metadata": {},
          "execution_count": 24
        }
      ]
    },
    {
      "cell_type": "markdown",
      "metadata": {
        "id": "df8D92ZeNI33"
      },
      "source": [
        "Splitting data and training model"
      ]
    },
    {
      "cell_type": "code",
      "metadata": {
        "id": "eAO6NZVzNFZs"
      },
      "source": [
        "from sklearn.model_selection import train_test_split"
      ],
      "execution_count": 25,
      "outputs": []
    },
    {
      "cell_type": "code",
      "metadata": {
        "id": "p0RqoU4ANO2m"
      },
      "source": [
        "X_train, X_test, y_train, y_test=train_test_split(X,y,test_size=0.2)"
      ],
      "execution_count": 26,
      "outputs": []
    },
    {
      "cell_type": "code",
      "metadata": {
        "colab": {
          "base_uri": "https://localhost:8080/"
        },
        "id": "TwGzooBKNRe6",
        "outputId": "7e05f7cd-aaba-4482-dada-ceaa7ed05d82"
      },
      "source": [
        "X_train.shape"
      ],
      "execution_count": 27,
      "outputs": [
        {
          "output_type": "execute_result",
          "data": {
            "text/plain": [
              "(322254, 111)"
            ]
          },
          "metadata": {},
          "execution_count": 27
        }
      ]
    },
    {
      "cell_type": "code",
      "metadata": {
        "id": "Tre7H7I4NTac"
      },
      "source": [
        "from sklearn.linear_model import LogisticRegression"
      ],
      "execution_count": 28,
      "outputs": []
    },
    {
      "cell_type": "code",
      "metadata": {
        "id": "IIUXMDttNViF"
      },
      "source": [
        "clf=LogisticRegression(random_state=0,multi_class='multinomial')"
      ],
      "execution_count": 29,
      "outputs": []
    },
    {
      "cell_type": "code",
      "metadata": {
        "colab": {
          "base_uri": "https://localhost:8080/"
        },
        "id": "ZleGLdPvNYsQ",
        "outputId": "d9f46f03-656b-43db-bc3a-8b1a46f039c3"
      },
      "source": [
        "clf.fit(X_train,y_train)"
      ],
      "execution_count": 30,
      "outputs": [
        {
          "output_type": "execute_result",
          "data": {
            "text/plain": [
              "LogisticRegression(C=1.0, class_weight=None, dual=False, fit_intercept=True,\n",
              "                   intercept_scaling=1, l1_ratio=None, max_iter=100,\n",
              "                   multi_class='multinomial', n_jobs=None, penalty='l2',\n",
              "                   random_state=0, solver='lbfgs', tol=0.0001, verbose=0,\n",
              "                   warm_start=False)"
            ]
          },
          "metadata": {},
          "execution_count": 30
        }
      ]
    },
    {
      "cell_type": "code",
      "metadata": {
        "colab": {
          "base_uri": "https://localhost:8080/"
        },
        "id": "9GoD4F1GNarl",
        "outputId": "c184f19b-cd05-460b-968e-23d7627b2b0b"
      },
      "source": [
        "# Prdeiction\n",
        "dt=np.array(['%@123abcd'])\n",
        "pred=vectorizer.transform(dt)\n",
        "clf.predict(pred)"
      ],
      "execution_count": 31,
      "outputs": [
        {
          "output_type": "execute_result",
          "data": {
            "text/plain": [
              "array([1.])"
            ]
          },
          "metadata": {},
          "execution_count": 31
        }
      ]
    },
    {
      "cell_type": "code",
      "metadata": {
        "colab": {
          "base_uri": "https://localhost:8080/"
        },
        "id": "KwSVniLsNiBR",
        "outputId": "1374248b-0fa6-4c2e-d11f-19656c0b23d7"
      },
      "source": [
        "# predicting on test data\n",
        "y_pred=clf.predict(X_test)\n",
        "y_pred"
      ],
      "execution_count": 32,
      "outputs": [
        {
          "output_type": "execute_result",
          "data": {
            "text/plain": [
              "array([1., 1., 1., ..., 0., 1., 1.])"
            ]
          },
          "metadata": {},
          "execution_count": 32
        }
      ]
    },
    {
      "cell_type": "markdown",
      "metadata": {
        "id": "jduz2N7WObAc"
      },
      "source": [
        "Checking accuracy of model"
      ]
    },
    {
      "cell_type": "code",
      "metadata": {
        "id": "s5_CgezsNmaf"
      },
      "source": [
        "from sklearn.metrics import confusion_matrix,accuracy_score"
      ],
      "execution_count": 33,
      "outputs": []
    },
    {
      "cell_type": "code",
      "metadata": {
        "colab": {
          "base_uri": "https://localhost:8080/"
        },
        "id": "CxhyLMirOe7H",
        "outputId": "02ba530b-e00a-4e11-bb37-ac6ca078401c"
      },
      "source": [
        "cm=confusion_matrix(y_test,y_pred)\n",
        "print(cm)\n",
        "print(accuracy_score(y_test,y_pred))"
      ],
      "execution_count": 34,
      "outputs": [
        {
          "output_type": "stream",
          "text": [
            "[[ 3269  7650     8]\n",
            " [ 2245 55886  1471]\n",
            " [   24  3085  6926]]\n",
            "0.8202298793505785\n"
          ],
          "name": "stdout"
        }
      ]
    }
  ]
}